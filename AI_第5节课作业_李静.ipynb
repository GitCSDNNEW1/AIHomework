{
 "cells": [
  {
   "cell_type": "markdown",
   "metadata": {},
   "source": [
    "各位同学，大家好!  欢迎各位开始学习我们的人工智能课程。  \n",
    "这门课程假设大家不具备机器学习和人工智能的知识，但是希望大家具备初级的Python编程能力。  \n",
    "这门课程结束后，希望大家掌握Python语言以及人工智能基础知识，对CV，NLP，RS领域有一定深入的理解与编程能力。"
   ]
  },
  {
   "cell_type": "markdown",
   "metadata": {},
   "source": [
    "# 本次作业要求"
   ]
  },
  {
   "cell_type": "markdown",
   "metadata": {},
   "source": [
    "## 作业形式"
   ]
  },
  {
   "cell_type": "markdown",
   "metadata": {},
   "source": [
    "复现课程代码  \n",
    "完成课后作业"
   ]
  },
  {
   "cell_type": "markdown",
   "metadata": {},
   "source": [
    "## 作业提交方式"
   ]
  },
  {
   "cell_type": "markdown",
   "metadata": {},
   "source": [
    "完成填写此`jupyter`文件，提交至自己的github，或通过KKB作业平台提交附件"
   ]
  },
  {
   "cell_type": "markdown",
   "metadata": {},
   "source": [
    "## 作业截止时间"
   ]
  },
  {
   "cell_type": "markdown",
   "metadata": {},
   "source": [
    "每次课程作业都会在下次课程(2019年11月8日)进行讲解，请在一周内尽快提交。  \n",
    "此次作业批改截止时间：2019年11月15日"
   ]
  },
  {
   "cell_type": "markdown",
   "metadata": {},
   "source": [
    "# 完成以下问答和编程练习"
   ]
  },
  {
   "cell_type": "markdown",
   "metadata": {},
   "source": [
    "**理论部分**\n",
    "1. 验证多重继承的属性规则，请选择\n",
    "- 就近原则\n",
    "- 随机原则\n",
    "- 类定义的先后原则"
   ]
  },
  {
   "cell_type": "code",
   "execution_count": 2,
   "metadata": {},
   "outputs": [
    {
     "name": "stdout",
     "output_type": "stream",
     "text": [
      "A0 1\tA0 2\tA3 1\t"
     ]
    }
   ],
   "source": [
    "\n",
    "class A0:\n",
    "    name = 'A0'\n",
    "    \n",
    "class A2(A0):\n",
    "    num = 2\n",
    "    \n",
    "class A1:\n",
    "    num = 1\n",
    "    \n",
    "class A3:\n",
    "    name = 'A3'\n",
    "    \n",
    "class A4(A1,A2,A3):\n",
    "    pass\n",
    "class A5(A2,A1,A3):\n",
    "    pass\n",
    "class A6(A3,A1,A2):\n",
    "    pass\n",
    "ins = A4()\n",
    "ins1 = A5()\n",
    "ins2 = A6()\n",
    "print(ins.name,ins.num,end='\\t') # A0  1\n",
    "print(ins1.name,ins1.num,end='\\t') # A0 2\n",
    "print(ins2.name,ins2.num,end='\\t') # A3 1"
   ]
  },
  {
   "cell_type": "markdown",
   "metadata": {},
   "source": [
    "**编程实践部分**"
   ]
  },
  {
   "cell_type": "markdown",
   "metadata": {},
   "source": [
    "1. 完成ATM的类实现  \n",
    "将第二次课程的ATM机器改写成类实现"
   ]
  },
  {
   "cell_type": "code",
   "execution_count": 1,
   "metadata": {},
   "outputs": [
    {
     "name": "stdout",
     "output_type": "stream",
     "text": [
      "====请选择操作====\n",
      "1：查询余额\n",
      "2：存款\n",
      "3：取款\n",
      "4：退出\n",
      "==================\n",
      "请输入操作码：5\n",
      "请输入1-4的数字！\n",
      "====请选择操作====\n",
      "1：查询余额\n",
      "2：存款\n",
      "3：取款\n",
      "4：退出\n",
      "==================\n",
      "请输入操作码：2\n",
      "请输入存款金额：100\n",
      "存款成功，当前余额：200\n",
      "====请选择操作====\n",
      "1：查询余额\n",
      "2：存款\n",
      "3：取款\n",
      "4：退出\n",
      "==================\n",
      "请输入操作码：1\n",
      "当前余额：200\n",
      "====请选择操作====\n",
      "1：查询余额\n",
      "2：存款\n",
      "3：取款\n",
      "4：退出\n",
      "==================\n",
      "请输入操作码：e\n",
      "请输入数字！\n",
      "====请选择操作====\n",
      "1：查询余额\n",
      "2：存款\n",
      "3：取款\n",
      "4：退出\n",
      "==================\n",
      "请输入操作码：3\n",
      "请输入取款金额：20\n",
      "取款成功，取款20,当前余额：180\n",
      "====请选择操作====\n",
      "1：查询余额\n",
      "2：存款\n",
      "3：取款\n",
      "4：退出\n",
      "==================\n",
      "请输入操作码：4\n",
      "感谢使用，已退出。\n"
     ]
    }
   ],
   "source": [
    "import time\n",
    "# class Card:\n",
    "#     def __init__(self,name,card_num,money):\n",
    "#         self.money = money #初始化金额\n",
    "#         self.card_num = card_num #初始化卡号\n",
    "#         self.name = name #初始化账户名\n",
    "#     def __str__(self):\n",
    "#         return '用户%s卡号为%s的账户余额：%d'%(self.name,self.card_num,self.money)\n",
    "# card = Card('郭靖','10000',1000)\n",
    "# print(card)\n",
    "class AtmManager():\n",
    "    def __init__(self,money):\n",
    "        self.money = money #初始化金额\n",
    "        \n",
    "    def queryMoney(self):\n",
    "        print('当前余额：%d'%self.money)\n",
    "    def putMoney(self,p_money):\n",
    "        self.money += p_money\n",
    "        print('存款成功，当前余额：%d'%self.money)\n",
    "    def getMoney(self,get_money):\n",
    "        if self.money>=get_money:\n",
    "            self.money -=get_money\n",
    "            print('取款成功，取款%d,当前余额：%d'%(get_money,self.money))\n",
    "        else:\n",
    "            print('取款失败，余额不足')\n",
    "            \n",
    "    def atm_menu(self):\n",
    "        print('''====请选择操作====\\n1：查询余额\\n2：存款\\n3：取款\\n4：退出\\n==================''')\n",
    "              \n",
    "atm_obj = AtmManager(100)\n",
    "while True:\n",
    "    try:\n",
    "        atm_obj.atm_menu()\n",
    "        time.sleep(1)#防止输入语句在菜单之前\n",
    "        operator = int(input('请输入操作码：'))\n",
    "        if(operator == 1):\n",
    "            atm_obj.queryMoney()\n",
    "        elif(operator == 2):\n",
    "            oper = int(input('请输入存款金额：'))\n",
    "            atm_obj.putMoney(oper)\n",
    "        elif(operator == 3):\n",
    "            ope_ = int(input('请输入取款金额：'))\n",
    "            atm_obj.getMoney(ope_)\n",
    "        elif(operator == 4):\n",
    "            print('感谢使用，已退出。')\n",
    "            break;\n",
    "        else:\n",
    "            print('请输入1-4的数字！')\n",
    "    except Exception:\n",
    "        print('请输入数字！')"
   ]
  },
  {
   "cell_type": "markdown",
   "metadata": {},
   "source": [
    "2. 练习会先提供一个李靖类，用以记录人物角色的战斗力。需要你创建一个子类哪吒类，提供属性和参数的修改。  \n",
    "要求： 在哪吒的初始化方法中，默认添加`['混天绫', '乾坤圈']` 两个装备,以及初始化战斗力为50."
   ]
  },
  {
   "cell_type": "code",
   "execution_count": 2,
   "metadata": {},
   "outputs": [
    {
     "name": "stdout",
     "output_type": "stream",
     "text": [
      "[]\n",
      "60\n"
     ]
    }
   ],
   "source": [
    "# 代码不用修改，读懂后运行即可。\n",
    "class Lijing: # 李靖\n",
    "    # 初始化函数，为每个实例创建4个参数（其中后3个参数有默认值）\n",
    "    def __init__(self, name, weapons=[], power=10): \n",
    "        self.name = name\n",
    "        self.weapons = weapons\n",
    "        self.power = power\n",
    "\n",
    "    def count_fight(self, weapon, weapon_power):\n",
    "        self.weapons.append(weapon)\n",
    "        self.power += weapon_power  # 总战力=武器战力之和\n",
    "\n",
    "lijing = Lijing('李靖')\n",
    "print(lijing.weapons)\n",
    "lijing.count_fight('七宝玲珑塔', 50)  # 七宝玲珑塔 战力 50\n",
    "print(lijing.power)"
   ]
  },
  {
   "cell_type": "code",
   "execution_count": 8,
   "metadata": {},
   "outputs": [
    {
     "name": "stdout",
     "output_type": "stream",
     "text": [
      "[]\n",
      "['混天绫', '乾坤圈']\n",
      "['七宝玲珑塔']\n",
      "60\n",
      "李靖的装备有['七宝玲珑塔'],总战力60\n",
      "['混天绫', '乾坤圈', '火尖枪']\n",
      "90\n",
      "哪吒的装备有['混天绫', '乾坤圈', '火尖枪'],总战力90\n"
     ]
    }
   ],
   "source": [
    "class Lijing: # 李靖\n",
    "    # 初始化函数，为每个实例创建4个参数（其中后3个参数有默认值）\n",
    "    def __init__(self, name, weapons=[], power=10): \n",
    "        self.name = name\n",
    "        self.weapons = weapons\n",
    "        self.power = power\n",
    "\n",
    "    def count_fight(self, weapon, weapon_power):\n",
    "        self.weapons.append(weapon)\n",
    "        self.power += weapon_power  # 总战力=武器战力之和\n",
    "    def __str__(self):\n",
    "        return '{}的装备有{},总战力{}'.format(self.name,self.weapons,self.power)    \n",
    "# your code here        \n",
    "# 请你完成子类的定制（包括初始化方法和count_fight函数）\n",
    "class Nezha(Lijing): # 哪吒\n",
    "    def __init__(self, name, weapons=['混天绫','乾坤圈'], power=50):\n",
    "        self.name = name\n",
    "        self.weapons = weapons #默认装备\n",
    "        self.power = power #默认战力\n",
    "    def conunt_fight(self, weapon, weapon_power):\n",
    "        Lijing.count_fight(weapon,weapon_power)#调用父类方法\n",
    "    \n",
    "# 通过两个实例，完成子类和父类的对比（可自行验证）\n",
    "lijing = Lijing('李靖')\n",
    "nezha = Nezha('哪吒')\n",
    "print(lijing.weapons)\n",
    "print(nezha.weapons)\n",
    "lijing.count_fight('七宝玲珑塔', 50)  # 七宝玲珑塔 战力 50\n",
    "print(lijing.weapons)\n",
    "print(lijing.power)\n",
    "print(lijing)\n",
    "nezha.count_fight('火尖枪', 40)  #\n",
    "print(nezha.weapons)\n",
    "print(nezha.power)\n",
    "print(nezha)"
   ]
  },
  {
   "cell_type": "code",
   "execution_count": null,
   "metadata": {},
   "outputs": [],
   "source": []
  }
 ],
 "metadata": {
  "kernelspec": {
   "display_name": "Python 3",
   "language": "python",
   "name": "python3"
  },
  "language_info": {
   "codemirror_mode": {
    "name": "ipython",
    "version": 3
   },
   "file_extension": ".py",
   "mimetype": "text/x-python",
   "name": "python",
   "nbconvert_exporter": "python",
   "pygments_lexer": "ipython3",
   "version": "3.6.5"
  }
 },
 "nbformat": 4,
 "nbformat_minor": 4
}
